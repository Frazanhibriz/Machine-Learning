{
  "cells": [
    {
      "cell_type": "markdown",
      "metadata": {
        "id": "view-in-github",
        "colab_type": "text"
      },
      "source": [
        "<a href=\"https://colab.research.google.com/github/Frazanhibriz/Machine-Learning/blob/main/DeepLearning/CompVis.ipynb\" target=\"_parent\"><img src=\"https://colab.research.google.com/assets/colab-badge.svg\" alt=\"Open In Colab\"/></a>"
      ]
    },
    {
      "cell_type": "code",
      "source": [
        "# !pip install tensorflow==2.18.0 tensorflow-text==2.18.1 tf-keras==2.18.0 --force-reinstall\n",
        "# !pip install --upgrade pip setuptools\n",
        "# !pip install --upgrade tensorflow tensorflow-text tf-keras\n"
      ],
      "metadata": {
        "id": "hiZEe3iCa-HB"
      },
      "execution_count": 44,
      "outputs": []
    },
    {
      "cell_type": "code",
      "source": [
        "import os\n",
        "from glob import glob\n",
        "import tensorflow as tf\n",
        "from tensorflow import keras\n",
        "import numpy as np\n",
        "import pandas as pd"
      ],
      "metadata": {
        "id": "frSGFyPCeebU"
      },
      "execution_count": 45,
      "outputs": []
    },
    {
      "cell_type": "code",
      "execution_count": 46,
      "metadata": {
        "id": "8c88qRbfGIB0"
      },
      "outputs": [],
      "source": [
        "import tensorflow as tf\n",
        "layers = tf.keras.layers\n",
        "from tensorflow import keras\n",
        "from keras.utils import image_dataset_from_directory\n",
        "import pandas as pd\n",
        "import numpy as np\n",
        "import matplotlib.pyplot as plt\n",
        "import os\n",
        "from glob import glob"
      ]
    },
    {
      "cell_type": "code",
      "execution_count": 47,
      "metadata": {
        "id": "b6KB0A6kGYqM",
        "colab": {
          "base_uri": "https://localhost:8080/"
        },
        "outputId": "bb81fec1-b98c-49d9-bcee-6c448026051f"
      },
      "outputs": [
        {
          "output_type": "stream",
          "name": "stdout",
          "text": [
            "Drive already mounted at /content/drive; to attempt to forcibly remount, call drive.mount(\"/content/drive\", force_remount=True).\n"
          ]
        }
      ],
      "source": [
        "from google.colab import drive\n",
        "\n",
        "drive.mount('/content/drive')"
      ]
    },
    {
      "cell_type": "code",
      "execution_count": 48,
      "metadata": {
        "id": "6gpd6LVEIo8z"
      },
      "outputs": [],
      "source": [
        "# 1. Load & Preprocess Data\n",
        "data_dir = \"/content/drive/My Drive/Dataset/GDGoCTel-U_can-you-spot-ai-artist/train\"\n",
        "img_size = (224, 224)\n",
        "batch_size = 32\n",
        "\n",
        "# Get list of image paths\n",
        "image_paths = glob(os.path.join(data_dir, \"*.jpg\"))\n",
        "\n",
        "# Load images manually\n",
        "def load_images(image_paths):\n",
        "    images = []\n",
        "    labels = []  # Assuming labels are binary, modify as needed\n",
        "    for img_path in image_paths:\n",
        "        img = keras.preprocessing.image.load_img(img_path, target_size=img_size)\n",
        "        img = keras.preprocessing.image.img_to_array(img)\n",
        "        img = img / 255.0  # Normalize\n",
        "        images.append(img)\n",
        "        labels.append(0)  # Assign labels as needed\n",
        "    return np.array(images), np.array(labels)\n",
        "\n",
        "# Load dataset\n",
        "X_train, y_train = load_images(image_paths)"
      ]
    },
    {
      "cell_type": "code",
      "execution_count": 49,
      "metadata": {
        "id": "B9KJFdGn1EZG",
        "colab": {
          "base_uri": "https://localhost:8080/"
        },
        "outputId": "08b2bb3e-8dd9-407b-ded6-0fd0de9c055f"
      },
      "outputs": [
        {
          "output_type": "stream",
          "name": "stderr",
          "text": [
            "/usr/local/lib/python3.11/dist-packages/keras/src/layers/convolutional/base_conv.py:107: UserWarning: Do not pass an `input_shape`/`input_dim` argument to a layer. When using Sequential models, prefer using an `Input(shape)` object as the first layer in the model instead.\n",
            "  super().__init__(activity_regularizer=activity_regularizer, **kwargs)\n"
          ]
        }
      ],
      "source": [
        "# 2. Build CNN Model\n",
        "model = keras.Sequential([\n",
        "    layers.Conv2D(32, (3,3), activation='relu', input_shape=(224, 224, 3)),\n",
        "    layers.MaxPooling2D((2,2)),\n",
        "    layers.Conv2D(64, (3,3), activation='relu'),\n",
        "    layers.MaxPooling2D((2,2)),\n",
        "    layers.Conv2D(128, (3,3), activation='relu'),\n",
        "    layers.MaxPooling2D((2,2)),\n",
        "    layers.Flatten(),\n",
        "    layers.Dense(128, activation='relu'),\n",
        "    layers.Dropout(0.5),\n",
        "    layers.Dense(1, activation='sigmoid')\n",
        "])"
      ]
    },
    {
      "cell_type": "code",
      "execution_count": 50,
      "metadata": {
        "id": "p14ZDUk_1GkI"
      },
      "outputs": [],
      "source": [
        "# 3. Compile Model\n",
        "model.compile(optimizer='adam', loss='binary_crossentropy', metrics=['accuracy'])"
      ]
    },
    {
      "cell_type": "code",
      "execution_count": 51,
      "metadata": {
        "id": "3K3Y9UUi1LS_",
        "colab": {
          "base_uri": "https://localhost:8080/"
        },
        "outputId": "420a53c2-befe-48e9-e098-28d5a32fb7cd"
      },
      "outputs": [
        {
          "output_type": "stream",
          "name": "stdout",
          "text": [
            "Epoch 1/10\n",
            "\u001b[1m16/16\u001b[0m \u001b[32m━━━━━━━━━━━━━━━━━━━━\u001b[0m\u001b[37m\u001b[0m \u001b[1m7s\u001b[0m 234ms/step - accuracy: 1.0000 - loss: 0.1308 - val_accuracy: 1.0000 - val_loss: 0.0000e+00\n",
            "Epoch 2/10\n",
            "\u001b[1m16/16\u001b[0m \u001b[32m━━━━━━━━━━━━━━━━━━━━\u001b[0m\u001b[37m\u001b[0m \u001b[1m1s\u001b[0m 60ms/step - accuracy: 1.0000 - loss: 1.4013e-45 - val_accuracy: 1.0000 - val_loss: 0.0000e+00\n",
            "Epoch 3/10\n",
            "\u001b[1m16/16\u001b[0m \u001b[32m━━━━━━━━━━━━━━━━━━━━\u001b[0m\u001b[37m\u001b[0m \u001b[1m1s\u001b[0m 57ms/step - accuracy: 1.0000 - loss: 0.0000e+00 - val_accuracy: 1.0000 - val_loss: 0.0000e+00\n",
            "Epoch 4/10\n",
            "\u001b[1m16/16\u001b[0m \u001b[32m━━━━━━━━━━━━━━━━━━━━\u001b[0m\u001b[37m\u001b[0m \u001b[1m1s\u001b[0m 57ms/step - accuracy: 1.0000 - loss: 0.0000e+00 - val_accuracy: 1.0000 - val_loss: 0.0000e+00\n",
            "Epoch 5/10\n",
            "\u001b[1m16/16\u001b[0m \u001b[32m━━━━━━━━━━━━━━━━━━━━\u001b[0m\u001b[37m\u001b[0m \u001b[1m1s\u001b[0m 53ms/step - accuracy: 1.0000 - loss: 0.0000e+00 - val_accuracy: 1.0000 - val_loss: 0.0000e+00\n",
            "Epoch 6/10\n",
            "\u001b[1m16/16\u001b[0m \u001b[32m━━━━━━━━━━━━━━━━━━━━\u001b[0m\u001b[37m\u001b[0m \u001b[1m1s\u001b[0m 53ms/step - accuracy: 1.0000 - loss: 0.0000e+00 - val_accuracy: 1.0000 - val_loss: 0.0000e+00\n",
            "Epoch 7/10\n",
            "\u001b[1m16/16\u001b[0m \u001b[32m━━━━━━━━━━━━━━━━━━━━\u001b[0m\u001b[37m\u001b[0m \u001b[1m1s\u001b[0m 53ms/step - accuracy: 1.0000 - loss: 0.0000e+00 - val_accuracy: 1.0000 - val_loss: 0.0000e+00\n",
            "Epoch 8/10\n",
            "\u001b[1m16/16\u001b[0m \u001b[32m━━━━━━━━━━━━━━━━━━━━\u001b[0m\u001b[37m\u001b[0m \u001b[1m1s\u001b[0m 54ms/step - accuracy: 1.0000 - loss: 0.0000e+00 - val_accuracy: 1.0000 - val_loss: 0.0000e+00\n",
            "Epoch 9/10\n",
            "\u001b[1m16/16\u001b[0m \u001b[32m━━━━━━━━━━━━━━━━━━━━\u001b[0m\u001b[37m\u001b[0m \u001b[1m1s\u001b[0m 58ms/step - accuracy: 1.0000 - loss: 0.0000e+00 - val_accuracy: 1.0000 - val_loss: 0.0000e+00\n",
            "Epoch 10/10\n",
            "\u001b[1m16/16\u001b[0m \u001b[32m━━━━━━━━━━━━━━━━━━━━\u001b[0m\u001b[37m\u001b[0m \u001b[1m1s\u001b[0m 53ms/step - accuracy: 1.0000 - loss: 0.0000e+00 - val_accuracy: 1.0000 - val_loss: 0.0000e+00\n"
          ]
        }
      ],
      "source": [
        "# 4. Train Model\n",
        "epochs = 10\n",
        "history = model.fit(X_train, y_train, epochs=epochs, batch_size=batch_size, validation_split=0.2)"
      ]
    },
    {
      "cell_type": "code",
      "execution_count": 52,
      "metadata": {
        "id": "jCBgt1_Z1gn2",
        "colab": {
          "base_uri": "https://localhost:8080/",
          "height": 449
        },
        "outputId": "d9c937e2-ef2f-4b73-c540-71662dec0dfe"
      },
      "outputs": [
        {
          "output_type": "display_data",
          "data": {
            "text/plain": [
              "<Figure size 640x480 with 1 Axes>"
            ],
            "image/png": "[encoded data removed]"
          },
          "metadata": {}
        }
      ],
      "source": [
        "# 5. Evaluate Model\n",
        "plt.plot(history.history['accuracy'], label='Train Accuracy')\n",
        "plt.plot(history.history['val_accuracy'], label='Validation Accuracy')\n",
        "plt.xlabel('Epoch')\n",
        "plt.ylabel('Accuracy')\n",
        "plt.legend()\n",
        "plt.show()"
      ]
    },
    {
      "cell_type": "code",
      "execution_count": 53,
      "metadata": {
        "id": "x4wV59nkJWlx",
        "colab": {
          "base_uri": "https://localhost:8080/"
        },
        "outputId": "963c6af9-870e-4bfa-aac8-bea4820acda0"
      },
      "outputs": [
        {
          "output_type": "stream",
          "name": "stderr",
          "text": [
            "WARNING:absl:You are saving your model as an HDF5 file via `model.save()` or `keras.saving.save_model(model)`. This file format is considered legacy. We recommend using instead the native Keras format, e.g. `model.save('my_model.keras')` or `keras.saving.save_model(model, 'my_model.keras')`. \n"
          ]
        }
      ],
      "source": [
        "# Save Model\n",
        "model.save(\"human_vs_ai_model.h5\")"
      ]
    },
    {
      "cell_type": "code",
      "source": [
        "# Load trained model\n",
        "model_path = \"human_vs_ai_model.h5\"\n",
        "model = tf.keras.models.load_model(model_path)"
      ],
      "metadata": {
        "id": "wRWRV80rUUwi",
        "colab": {
          "base_uri": "https://localhost:8080/"
        },
        "outputId": "2aa27e2f-7d31-40eb-f385-4c7c212ebbeb"
      },
      "execution_count": 54,
      "outputs": [
        {
          "output_type": "stream",
          "name": "stderr",
          "text": [
            "WARNING:absl:Compiled the loaded model, but the compiled metrics have yet to be built. `model.compile_metrics` will be empty until you train or evaluate the model.\n"
          ]
        }
      ]
    },
    {
      "cell_type": "code",
      "source": [
        "# Path ke folder test\n",
        "test_dir = \"/content/drive/My Drive/Dataset/GDGoCTel-U_can-you-spot-ai-artist/test\"  # Make sure this path is accurate\n",
        "img_size = (224, 224)"
      ],
      "metadata": {
        "id": "r3sDaeUVUf9t"
      },
      "execution_count": 55,
      "outputs": []
    },
    {
      "cell_type": "code",
      "source": [
        "# Ambil daftar gambar di folder test, include more extensions and consider subfolders\n",
        "test_images = glob(os.path.join(test_dir, \"**\", \"*.*\"), recursive=True)\n",
        "test_images = [img for img in test_images if img.lower().endswith(('.jpg', '.jpeg', '.png', '.JPG', '.JPEG', '.PNG'))]  # Filter for image extensions\n",
        "\n",
        "# Check if any images were found\n",
        "if not test_images:\n",
        "    print(\"Warning: No test images found in the directory.\")\n",
        "else:\n",
        "    print(f\"Found {len(test_images)} test images.\")\n"
      ],
      "metadata": {
        "id": "xWRkrTMeUjzA",
        "colab": {
          "base_uri": "https://localhost:8080/"
        },
        "outputId": "743b504c-5bd8-4610-d8e3-4884047c4aca"
      },
      "execution_count": 56,
      "outputs": [
        {
          "output_type": "stream",
          "name": "stdout",
          "text": [
            "Found 195 test images.\n"
          ]
        }
      ]
    },
    {
      "cell_type": "code",
      "source": [
        "# Fungsi untuk memproses dan memprediksi gambar\n",
        "def predict_image(image_path):\n",
        "    # img = keras.preprocessing.image.load_img # This line is redundant and can be removed\n",
        "    img = keras.preprocessing.image.load_img(image_path, target_size=img_size) # Use keras.preprocessing.image.load_img\n",
        "    img = keras.preprocessing.image.img_to_array(img) # Use keras.preprocessing.image.img_to_array\n",
        "    img = img / 255.0  # Normalisasi\n",
        "    img = np.expand_dims(img, axis=0)  # Tambahkan batch dimension\n",
        "    prediction = model.predict(img)\n",
        "    return 1 if prediction > 0.5 else 0  # Gunakan threshold 0.5"
      ],
      "metadata": {
        "id": "t_LQEWAsUmsa"
      },
      "execution_count": 57,
      "outputs": []
    },
    {
      "cell_type": "code",
      "source": [
        "# Simpan hasil ke dalam CSV\n",
        "df = pd.DataFrame(results, columns=[\"image\", \"label\"])\n",
        "df.to_csv(\"submission.csv\", index=False)\n",
        "print(\"Predictions saved to submission.csv\")"
      ],
      "metadata": {
        "id": "vE3CLpoMUxeh",
        "colab": {
          "base_uri": "https://localhost:8080/"
        },
        "outputId": "1b66125b-740a-4f9d-fe0a-984657371747"
      },
      "execution_count": 58,
      "outputs": [
        {
          "output_type": "stream",
          "name": "stdout",
          "text": [
            "Predictions saved to submission.csv\n"
          ]
        }
      ]
    }
  ],
  "metadata": {
    "colab": {
      "provenance": [],
      "gpuType": "T4",
      "authorship_tag": "ABX9TyN/sz11qJ/qM9wm3+A7qpQo",
      "include_colab_link": true
    },
    "kernelspec": {
      "display_name": "Python 3",
      "name": "python3"
    },
    "language_info": {
      "name": "python"
    },
    "accelerator": "GPU"
  },
  "nbformat": 4,
  "nbformat_minor": 0
}